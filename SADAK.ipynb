{
  "cells": [
    {
      "cell_type": "code",
      "execution_count": 20,
      "metadata": {
        "colab": {
          "base_uri": "https://localhost:8080/"
        },
        "id": "A2oteWTYTOBP",
        "outputId": "8cb627fd-2262-43f9-a760-5908858616d4"
      },
      "outputs": [
        {
          "name": "stdout",
          "output_type": "stream",
          "text": [
            "/home/dev/Documents/GitHub/S.A.D.A.K\n"
          ]
        },
        {
          "name": "stderr",
          "output_type": "stream",
          "text": [
            "/home/dev/.local/lib/python3.10/site-packages/IPython/core/magics/osm.py:393: UserWarning: using bookmarks requires you to install the `pickleshare` library.\n",
            "  bkms = self.shell.db.get('bookmarks', {})\n",
            "/home/dev/.local/lib/python3.10/site-packages/IPython/core/magics/osm.py:417: UserWarning: using dhist requires you to install the `pickleshare` library.\n",
            "  self.shell.db['dhist'] = compress_dhist(dhist)[-100:]\n"
          ]
        }
      ],
      "source": [
        "%cd ~/Documents/GitHub/S.A.D.A.K"
      ]
    },
    {
      "cell_type": "code",
      "execution_count": 21,
      "metadata": {
        "id": "9BchltC8UBb4"
      },
      "outputs": [],
      "source": [
        "!pip install cython pillow>=7.0.0 numpy>=1.18.1 opencv-python>=4.1.2 torch>=1.9.0 --extra-index-url https://download.pytorch.org/whl/cpu torchvision>=0.10.0 --extra-index-url https://download.pytorch.org/whl/cpu pytest==7.1.3 tqdm==4.64.1 scipy>=1.7.3 matplotlib>=3.4.3 mock==4.0.3"
      ]
    },
    {
      "cell_type": "code",
      "execution_count": 22,
      "metadata": {
        "id": "5IFmOek_UDNq"
      },
      "outputs": [],
      "source": [
        "!pip install cython pillow>=7.0.0 numpy>=1.18.1 opencv-python>=4.1.2 torch>=1.9.0 --extra-index-url https://download.pytorch.org/whl/cu102 torchvision>=0.10.0 --extra-index-url https://download.pytorch.org/whl/cu102 pytest==7.1.3 tqdm==4.64.1 scipy>=1.7.3 matplotlib>=3.4.3 mock==4.0.3"
      ]
    },
    {
      "cell_type": "code",
      "execution_count": 23,
      "metadata": {
        "colab": {
          "base_uri": "https://localhost:8080/"
        },
        "id": "BibEgizrUM8u",
        "outputId": "2d21b52d-b334-4f22-937e-b2aca96a9c1c"
      },
      "outputs": [
        {
          "name": "stdout",
          "output_type": "stream",
          "text": [
            "Defaulting to user installation because normal site-packages is not writeable\n",
            "Requirement already satisfied: imageai in /home/dev/.local/lib/python3.10/site-packages (3.0.3)\n"
          ]
        }
      ],
      "source": [
        "!pip install imageai --upgrade"
      ]
    },
    {
      "cell_type": "code",
      "execution_count": 25,
      "metadata": {
        "colab": {
          "base_uri": "https://localhost:8080/"
        },
        "id": "kp5_p0Y5Udn4",
        "outputId": "53bdbd4a-1c93-4e8d-aacd-333785c9be48"
      },
      "outputs": [
        {
          "name": "stderr",
          "output_type": "stream",
          "text": [
            "/home/dev/.local/lib/python3.10/site-packages/imageai/Detection/Custom/yolo/dataset.py:80: UserWarning: loadtxt: input contained no data: \"/home/dev/Documents/GitHub/S.A.D.A.K/datasets-yolo/train/annotations/Datacluster Traffic Sign (15).txt\"\n",
            "  l = np.loadtxt(label_path).reshape(-1,5)\n",
            "/home/dev/.local/lib/python3.10/site-packages/imageai/Detection/Custom/yolo/dataset.py:80: UserWarning: loadtxt: input contained no data: \"/home/dev/Documents/GitHub/S.A.D.A.K/datasets-yolo/train/annotations/Datacluster Traffic Sign (105).txt\"\n",
            "  l = np.loadtxt(label_path).reshape(-1,5)\n",
            "/home/dev/.local/lib/python3.10/site-packages/imageai/Detection/Custom/yolo/dataset.py:80: UserWarning: loadtxt: input contained no data: \"/home/dev/Documents/GitHub/S.A.D.A.K/datasets-yolo/train/annotations/Datacluster Traffic Sign (16).txt\"\n",
            "  l = np.loadtxt(label_path).reshape(-1,5)\n",
            "/home/dev/.local/lib/python3.10/site-packages/imageai/Detection/Custom/yolo/dataset.py:80: UserWarning: loadtxt: input contained no data: \"/home/dev/Documents/GitHub/S.A.D.A.K/datasets-yolo/train/annotations/KakaoTalk_20230407_154711521_04_jpg.rf.fd0b0dcdc3ec099f0094d71e604e0ac7.txt\"\n",
            "  l = np.loadtxt(label_path).reshape(-1,5)\n",
            "/home/dev/.local/lib/python3.10/site-packages/imageai/Detection/Custom/yolo/dataset.py:80: UserWarning: loadtxt: input contained no data: \"/home/dev/Documents/GitHub/S.A.D.A.K/datasets-yolo/train/annotations/Datacluster Traffic Sign (33).txt\"\n",
            "  l = np.loadtxt(label_path).reshape(-1,5)\n",
            "/home/dev/.local/lib/python3.10/site-packages/imageai/Detection/Custom/yolo/dataset.py:80: UserWarning: loadtxt: input contained no data: \"/home/dev/Documents/GitHub/S.A.D.A.K/datasets-yolo/train/annotations/Datacluster Traffic Sign (29).txt\"\n",
            "  l = np.loadtxt(label_path).reshape(-1,5)\n",
            "/home/dev/.local/lib/python3.10/site-packages/imageai/Detection/Custom/yolo/dataset.py:80: UserWarning: loadtxt: input contained no data: \"/home/dev/Documents/GitHub/S.A.D.A.K/datasets-yolo/train/annotations/Datacluster Traffic Sign (17).txt\"\n",
            "  l = np.loadtxt(label_path).reshape(-1,5)\n",
            "/home/dev/.local/lib/python3.10/site-packages/imageai/Detection/Custom/yolo/dataset.py:80: UserWarning: loadtxt: input contained no data: \"/home/dev/Documents/GitHub/S.A.D.A.K/datasets-yolo/train/annotations/Datacluster Traffic Sign (34).txt\"\n",
            "  l = np.loadtxt(label_path).reshape(-1,5)\n",
            "/home/dev/.local/lib/python3.10/site-packages/imageai/Detection/Custom/yolo/dataset.py:80: UserWarning: loadtxt: input contained no data: \"/home/dev/Documents/GitHub/S.A.D.A.K/datasets-yolo/train/annotations/Datacluster Traffic Sign (23).txt\"\n",
            "  l = np.loadtxt(label_path).reshape(-1,5)\n",
            "/home/dev/.local/lib/python3.10/site-packages/imageai/Detection/Custom/yolo/dataset.py:80: UserWarning: loadtxt: input contained no data: \"/home/dev/Documents/GitHub/S.A.D.A.K/datasets-yolo/train/annotations/Datacluster Traffic Sign (21).txt\"\n",
            "  l = np.loadtxt(label_path).reshape(-1,5)\n",
            "/home/dev/.local/lib/python3.10/site-packages/imageai/Detection/Custom/yolo/dataset.py:80: UserWarning: loadtxt: input contained no data: \"/home/dev/Documents/GitHub/S.A.D.A.K/datasets-yolo/train/annotations/Datacluster Traffic Sign (46).txt\"\n",
            "  l = np.loadtxt(label_path).reshape(-1,5)\n",
            "/home/dev/.local/lib/python3.10/site-packages/imageai/Detection/Custom/yolo/dataset.py:80: UserWarning: loadtxt: input contained no data: \"/home/dev/Documents/GitHub/S.A.D.A.K/datasets-yolo/train/annotations/Datacluster Traffic Sign (19).txt\"\n",
            "  l = np.loadtxt(label_path).reshape(-1,5)\n",
            "/home/dev/.local/lib/python3.10/site-packages/imageai/Detection/Custom/yolo/dataset.py:80: UserWarning: loadtxt: input contained no data: \"/home/dev/Documents/GitHub/S.A.D.A.K/datasets-yolo/train/annotations/Datacluster Traffic Sign (109).txt\"\n",
            "  l = np.loadtxt(label_path).reshape(-1,5)\n",
            "/home/dev/.local/lib/python3.10/site-packages/imageai/Detection/Custom/yolo/dataset.py:80: UserWarning: loadtxt: input contained no data: \"/home/dev/Documents/GitHub/S.A.D.A.K/datasets-yolo/train/annotations/Datacluster Traffic Sign (40).txt\"\n",
            "  l = np.loadtxt(label_path).reshape(-1,5)\n",
            "/home/dev/.local/lib/python3.10/site-packages/imageai/Detection/Custom/yolo/dataset.py:80: UserWarning: loadtxt: input contained no data: \"/home/dev/Documents/GitHub/S.A.D.A.K/datasets-yolo/train/annotations/Datacluster Traffic Sign (9).txt\"\n",
            "  l = np.loadtxt(label_path).reshape(-1,5)\n",
            "/home/dev/.local/lib/python3.10/site-packages/imageai/Detection/Custom/yolo/dataset.py:80: UserWarning: loadtxt: input contained no data: \"/home/dev/Documents/GitHub/S.A.D.A.K/datasets-yolo/train/annotations/Datacluster Traffic Sign (50).txt\"\n",
            "  l = np.loadtxt(label_path).reshape(-1,5)\n",
            "/home/dev/.local/lib/python3.10/site-packages/imageai/Detection/Custom/yolo/dataset.py:80: UserWarning: loadtxt: input contained no data: \"/home/dev/Documents/GitHub/S.A.D.A.K/datasets-yolo/train/annotations/KakaoTalk_20230407_154711521_05_jpg.rf.985f24482a80ed1087303d94b8ad72e5.txt\"\n",
            "  l = np.loadtxt(label_path).reshape(-1,5)\n",
            "/home/dev/.local/lib/python3.10/site-packages/imageai/Detection/Custom/yolo/dataset.py:80: UserWarning: loadtxt: input contained no data: \"/home/dev/Documents/GitHub/S.A.D.A.K/datasets-yolo/train/annotations/Datacluster Traffic Sign (13).txt\"\n",
            "  l = np.loadtxt(label_path).reshape(-1,5)\n",
            "/home/dev/.local/lib/python3.10/site-packages/imageai/Detection/Custom/yolo/dataset.py:80: UserWarning: loadtxt: input contained no data: \"/home/dev/Documents/GitHub/S.A.D.A.K/datasets-yolo/train/annotations/Datacluster Traffic Sign (84).txt\"\n",
            "  l = np.loadtxt(label_path).reshape(-1,5)\n",
            "/home/dev/.local/lib/python3.10/site-packages/imageai/Detection/Custom/yolo/dataset.py:80: UserWarning: loadtxt: input contained no data: \"/home/dev/Documents/GitHub/S.A.D.A.K/datasets-yolo/train/annotations/Datacluster Traffic Sign (18).txt\"\n",
            "  l = np.loadtxt(label_path).reshape(-1,5)\n",
            "/home/dev/.local/lib/python3.10/site-packages/imageai/Detection/Custom/yolo/dataset.py:80: UserWarning: loadtxt: input contained no data: \"/home/dev/Documents/GitHub/S.A.D.A.K/datasets-yolo/train/annotations/Datacluster Traffic Sign (69).txt\"\n",
            "  l = np.loadtxt(label_path).reshape(-1,5)\n",
            "/home/dev/.local/lib/python3.10/site-packages/imageai/Detection/Custom/yolo/dataset.py:80: UserWarning: loadtxt: input contained no data: \"/home/dev/Documents/GitHub/S.A.D.A.K/datasets-yolo/validation/annotations/KakaoTalk_20230407_154711521_09_jpg.rf.4f93285d643b81e3bbea2af14b139106.txt\"\n",
            "  l = np.loadtxt(label_path).reshape(-1,5)\n",
            "/home/dev/.local/lib/python3.10/site-packages/imageai/Detection/Custom/yolo/dataset.py:80: UserWarning: loadtxt: input contained no data: \"/home/dev/Documents/GitHub/S.A.D.A.K/datasets-yolo/validation/annotations/Datacluster Traffic Sign (128).txt\"\n",
            "  l = np.loadtxt(label_path).reshape(-1,5)\n"
          ]
        },
        {
          "name": "stdout",
          "output_type": "stream",
          "text": [
            "WARNING: Extremely small objects found. 23 of 1236 labels are < 3 pixels in size.\n",
            "Generating anchor boxes for training images...\n",
            "thr=0.25: 0.9693 best possible recall, 3.73 anchors past thr\n",
            "n=6, img_size=416, metric_all=0.366/0.693-mean/best, past_thr=0.505-mean: \n",
            "====================\n",
            "Pretrained YOLOv3 model loaded to initialize weights\n",
            "====================\n",
            "Epoch 1/100\n",
            "----------\n",
            "Train: \n"
          ]
        },
        {
          "name": "stderr",
          "output_type": "stream",
          "text": [
            "0it [00:00, ?it/s]../aten/src/ATen/native/cuda/IndexKernel.cu:92: operator(): block: [0,0,0], thread: [89,0,0] Assertion `-sizes[i] <= index && index < sizes[i] && \"index out of bounds\"` failed.\n",
            "../aten/src/ATen/native/cuda/IndexKernel.cu:92: operator(): block: [0,0,0], thread: [61,0,0] Assertion `-sizes[i] <= index && index < sizes[i] && \"index out of bounds\"` failed.\n",
            "../aten/src/ATen/native/cuda/IndexKernel.cu:92: operator(): block: [0,0,0], thread: [11,0,0] Assertion `-sizes[i] <= index && index < sizes[i] && \"index out of bounds\"` failed.\n",
            "../aten/src/ATen/native/cuda/IndexKernel.cu:92: operator(): block: [0,0,0], thread: [30,0,0] Assertion `-sizes[i] <= index && index < sizes[i] && \"index out of bounds\"` failed.\n",
            "0it [00:01, ?it/s]\n"
          ]
        },
        {
          "ename": "RuntimeError",
          "evalue": "CUDA error: device-side assert triggered\nCUDA kernel errors might be asynchronously reported at some other API call, so the stacktrace below might be incorrect.\nFor debugging consider passing CUDA_LAUNCH_BLOCKING=1.\nCompile with `TORCH_USE_CUDA_DSA` to enable device-side assertions.\n",
          "output_type": "error",
          "traceback": [
            "\u001b[0;31m---------------------------------------------------------------------------\u001b[0m",
            "\u001b[0;31mRuntimeError\u001b[0m                              Traceback (most recent call last)",
            "Cell \u001b[0;32mIn[25], line 7\u001b[0m\n\u001b[1;32m      5\u001b[0m trainer\u001b[38;5;241m.\u001b[39msetDataDirectory(data_directory\u001b[38;5;241m=\u001b[39m\u001b[38;5;124m\"\u001b[39m\u001b[38;5;124m/home/dev/Documents/GitHub/S.A.D.A.K/datasets-yolo\u001b[39m\u001b[38;5;124m\"\u001b[39m)\n\u001b[1;32m      6\u001b[0m trainer\u001b[38;5;241m.\u001b[39msetTrainConfig(object_names_array\u001b[38;5;241m=\u001b[39m[\u001b[38;5;124m\"\u001b[39m\u001b[38;5;124mpotholes\u001b[39m\u001b[38;5;124m\"\u001b[39m, \u001b[38;5;124m\"\u001b[39m\u001b[38;5;124mtraffic_signs\u001b[39m\u001b[38;5;124m\"\u001b[39m, \u001b[38;5;124m\"\u001b[39m\u001b[38;5;124mvehicles\u001b[39m\u001b[38;5;124m\"\u001b[39m, \u001b[38;5;124m\"\u001b[39m\u001b[38;5;124mpedestrian\u001b[39m\u001b[38;5;124m\"\u001b[39m, \u001b[38;5;124m\"\u001b[39m\u001b[38;5;124munknown\u001b[39m\u001b[38;5;124m\"\u001b[39m], batch_size\u001b[38;5;241m=\u001b[39m\u001b[38;5;241m32\u001b[39m, num_experiments\u001b[38;5;241m=\u001b[39m\u001b[38;5;241m100\u001b[39m, train_from_pretrained_model\u001b[38;5;241m=\u001b[39m\u001b[38;5;124m\"\u001b[39m\u001b[38;5;124m/home/dev/Downloads/tiny-yolov3.pt\u001b[39m\u001b[38;5;124m\"\u001b[39m)\n\u001b[0;32m----> 7\u001b[0m \u001b[43mtrainer\u001b[49m\u001b[38;5;241;43m.\u001b[39;49m\u001b[43mtrainModel\u001b[49m\u001b[43m(\u001b[49m\u001b[43m)\u001b[49m\n",
            "File \u001b[0;32m~/.local/lib/python3.10/site-packages/imageai/Detection/Custom/__init__.py:272\u001b[0m, in \u001b[0;36mDetectionModelTrainer.trainModel\u001b[0;34m(self)\u001b[0m\n\u001b[1;32m    270\u001b[0m     _ \u001b[38;5;241m=\u001b[39m \u001b[38;5;28mself\u001b[39m\u001b[38;5;241m.\u001b[39m__model(data)\n\u001b[1;32m    271\u001b[0m     loss_layers \u001b[38;5;241m=\u001b[39m \u001b[38;5;28mself\u001b[39m\u001b[38;5;241m.\u001b[39m__model\u001b[38;5;241m.\u001b[39mget_loss_layers()\n\u001b[0;32m--> 272\u001b[0m     loss, loss_components \u001b[38;5;241m=\u001b[39m \u001b[43mcompute_loss\u001b[49m\u001b[43m(\u001b[49m\u001b[43mloss_layers\u001b[49m\u001b[43m,\u001b[49m\u001b[43m \u001b[49m\u001b[43manns\u001b[49m\u001b[38;5;241;43m.\u001b[39;49m\u001b[43mdetach\u001b[49m\u001b[43m(\u001b[49m\u001b[43m)\u001b[49m\u001b[43m,\u001b[49m\u001b[43m \u001b[49m\u001b[38;5;28;43mself\u001b[39;49m\u001b[38;5;241;43m.\u001b[39;49m\u001b[43m__device\u001b[49m\u001b[43m)\u001b[49m\n\u001b[1;32m    274\u001b[0m \u001b[38;5;28mself\u001b[39m\u001b[38;5;241m.\u001b[39m__scaler\u001b[38;5;241m.\u001b[39mscale(loss)\u001b[38;5;241m.\u001b[39mbackward()\n\u001b[1;32m    275\u001b[0m mloss \u001b[38;5;241m=\u001b[39m (mloss \u001b[38;5;241m*\u001b[39m batch_i \u001b[38;5;241m+\u001b[39m loss_components) \u001b[38;5;241m/\u001b[39m (batch_i \u001b[38;5;241m+\u001b[39m \u001b[38;5;241m1\u001b[39m)\n",
            "File \u001b[0;32m~/.local/lib/python3.10/site-packages/imageai/Detection/Custom/yolo/compute_loss.py:112\u001b[0m, in \u001b[0;36mcompute_loss\u001b[0;34m(loss_layers, targets, device)\u001b[0m\n\u001b[1;32m    110\u001b[0m         t[\u001b[38;5;28mrange\u001b[39m(num_targets), tcls[layer_index]] \u001b[38;5;241m=\u001b[39m \u001b[38;5;241m1\u001b[39m\n\u001b[1;32m    111\u001b[0m         \u001b[38;5;66;03m# Use the tensor to calculate the BCE loss\u001b[39;00m\n\u001b[0;32m--> 112\u001b[0m         lcls \u001b[38;5;241m+\u001b[39m\u001b[38;5;241m=\u001b[39m \u001b[43mBCEcls\u001b[49m\u001b[43m(\u001b[49m\u001b[43mps\u001b[49m\u001b[43m[\u001b[49m\u001b[43m:\u001b[49m\u001b[43m,\u001b[49m\u001b[43m \u001b[49m\u001b[38;5;241;43m5\u001b[39;49m\u001b[43m:\u001b[49m\u001b[43m]\u001b[49m\u001b[43m,\u001b[49m\u001b[43m \u001b[49m\u001b[43mt\u001b[49m\u001b[43m)\u001b[49m  \u001b[38;5;66;03m# BCE\u001b[39;00m\n\u001b[1;32m    114\u001b[0m \u001b[38;5;66;03m# Classification of the objectness the sequel\u001b[39;00m\n\u001b[1;32m    115\u001b[0m \u001b[38;5;66;03m# Calculate the BCE loss between the on the fly generated target and the network prediction\u001b[39;00m\n\u001b[1;32m    116\u001b[0m obji \u001b[38;5;241m=\u001b[39m BCEobj(layer_predictions[\u001b[38;5;241m.\u001b[39m\u001b[38;5;241m.\u001b[39m\u001b[38;5;241m.\u001b[39m, \u001b[38;5;241m4\u001b[39m], tobj) \u001b[38;5;66;03m# obj loss\u001b[39;00m\n",
            "File \u001b[0;32m~/.local/lib/python3.10/site-packages/torch/nn/modules/module.py:1518\u001b[0m, in \u001b[0;36mModule._wrapped_call_impl\u001b[0;34m(self, *args, **kwargs)\u001b[0m\n\u001b[1;32m   1516\u001b[0m     \u001b[38;5;28;01mreturn\u001b[39;00m \u001b[38;5;28mself\u001b[39m\u001b[38;5;241m.\u001b[39m_compiled_call_impl(\u001b[38;5;241m*\u001b[39margs, \u001b[38;5;241m*\u001b[39m\u001b[38;5;241m*\u001b[39mkwargs)  \u001b[38;5;66;03m# type: ignore[misc]\u001b[39;00m\n\u001b[1;32m   1517\u001b[0m \u001b[38;5;28;01melse\u001b[39;00m:\n\u001b[0;32m-> 1518\u001b[0m     \u001b[38;5;28;01mreturn\u001b[39;00m \u001b[38;5;28;43mself\u001b[39;49m\u001b[38;5;241;43m.\u001b[39;49m\u001b[43m_call_impl\u001b[49m\u001b[43m(\u001b[49m\u001b[38;5;241;43m*\u001b[39;49m\u001b[43margs\u001b[49m\u001b[43m,\u001b[49m\u001b[43m \u001b[49m\u001b[38;5;241;43m*\u001b[39;49m\u001b[38;5;241;43m*\u001b[39;49m\u001b[43mkwargs\u001b[49m\u001b[43m)\u001b[49m\n",
            "File \u001b[0;32m~/.local/lib/python3.10/site-packages/torch/nn/modules/module.py:1527\u001b[0m, in \u001b[0;36mModule._call_impl\u001b[0;34m(self, *args, **kwargs)\u001b[0m\n\u001b[1;32m   1522\u001b[0m \u001b[38;5;66;03m# If we don't have any hooks, we want to skip the rest of the logic in\u001b[39;00m\n\u001b[1;32m   1523\u001b[0m \u001b[38;5;66;03m# this function, and just call forward.\u001b[39;00m\n\u001b[1;32m   1524\u001b[0m \u001b[38;5;28;01mif\u001b[39;00m \u001b[38;5;129;01mnot\u001b[39;00m (\u001b[38;5;28mself\u001b[39m\u001b[38;5;241m.\u001b[39m_backward_hooks \u001b[38;5;129;01mor\u001b[39;00m \u001b[38;5;28mself\u001b[39m\u001b[38;5;241m.\u001b[39m_backward_pre_hooks \u001b[38;5;129;01mor\u001b[39;00m \u001b[38;5;28mself\u001b[39m\u001b[38;5;241m.\u001b[39m_forward_hooks \u001b[38;5;129;01mor\u001b[39;00m \u001b[38;5;28mself\u001b[39m\u001b[38;5;241m.\u001b[39m_forward_pre_hooks\n\u001b[1;32m   1525\u001b[0m         \u001b[38;5;129;01mor\u001b[39;00m _global_backward_pre_hooks \u001b[38;5;129;01mor\u001b[39;00m _global_backward_hooks\n\u001b[1;32m   1526\u001b[0m         \u001b[38;5;129;01mor\u001b[39;00m _global_forward_hooks \u001b[38;5;129;01mor\u001b[39;00m _global_forward_pre_hooks):\n\u001b[0;32m-> 1527\u001b[0m     \u001b[38;5;28;01mreturn\u001b[39;00m \u001b[43mforward_call\u001b[49m\u001b[43m(\u001b[49m\u001b[38;5;241;43m*\u001b[39;49m\u001b[43margs\u001b[49m\u001b[43m,\u001b[49m\u001b[43m \u001b[49m\u001b[38;5;241;43m*\u001b[39;49m\u001b[38;5;241;43m*\u001b[39;49m\u001b[43mkwargs\u001b[49m\u001b[43m)\u001b[49m\n\u001b[1;32m   1529\u001b[0m \u001b[38;5;28;01mtry\u001b[39;00m:\n\u001b[1;32m   1530\u001b[0m     result \u001b[38;5;241m=\u001b[39m \u001b[38;5;28;01mNone\u001b[39;00m\n",
            "File \u001b[0;32m~/.local/lib/python3.10/site-packages/torch/nn/modules/loss.py:725\u001b[0m, in \u001b[0;36mBCEWithLogitsLoss.forward\u001b[0;34m(self, input, target)\u001b[0m\n\u001b[1;32m    724\u001b[0m \u001b[38;5;28;01mdef\u001b[39;00m \u001b[38;5;21mforward\u001b[39m(\u001b[38;5;28mself\u001b[39m, \u001b[38;5;28minput\u001b[39m: Tensor, target: Tensor) \u001b[38;5;241m-\u001b[39m\u001b[38;5;241m>\u001b[39m Tensor:\n\u001b[0;32m--> 725\u001b[0m     \u001b[38;5;28;01mreturn\u001b[39;00m \u001b[43mF\u001b[49m\u001b[38;5;241;43m.\u001b[39;49m\u001b[43mbinary_cross_entropy_with_logits\u001b[49m\u001b[43m(\u001b[49m\u001b[38;5;28;43minput\u001b[39;49m\u001b[43m,\u001b[49m\u001b[43m \u001b[49m\u001b[43mtarget\u001b[49m\u001b[43m,\u001b[49m\n\u001b[1;32m    726\u001b[0m \u001b[43m                                              \u001b[49m\u001b[38;5;28;43mself\u001b[39;49m\u001b[38;5;241;43m.\u001b[39;49m\u001b[43mweight\u001b[49m\u001b[43m,\u001b[49m\n\u001b[1;32m    727\u001b[0m \u001b[43m                                              \u001b[49m\u001b[43mpos_weight\u001b[49m\u001b[38;5;241;43m=\u001b[39;49m\u001b[38;5;28;43mself\u001b[39;49m\u001b[38;5;241;43m.\u001b[39;49m\u001b[43mpos_weight\u001b[49m\u001b[43m,\u001b[49m\n\u001b[1;32m    728\u001b[0m \u001b[43m                                              \u001b[49m\u001b[43mreduction\u001b[49m\u001b[38;5;241;43m=\u001b[39;49m\u001b[38;5;28;43mself\u001b[39;49m\u001b[38;5;241;43m.\u001b[39;49m\u001b[43mreduction\u001b[49m\u001b[43m)\u001b[49m\n",
            "File \u001b[0;32m~/.local/lib/python3.10/site-packages/torch/nn/functional.py:3195\u001b[0m, in \u001b[0;36mbinary_cross_entropy_with_logits\u001b[0;34m(input, target, weight, size_average, reduce, reduction, pos_weight)\u001b[0m\n\u001b[1;32m   3192\u001b[0m \u001b[38;5;28;01mif\u001b[39;00m \u001b[38;5;129;01mnot\u001b[39;00m (target\u001b[38;5;241m.\u001b[39msize() \u001b[38;5;241m==\u001b[39m \u001b[38;5;28minput\u001b[39m\u001b[38;5;241m.\u001b[39msize()):\n\u001b[1;32m   3193\u001b[0m     \u001b[38;5;28;01mraise\u001b[39;00m \u001b[38;5;167;01mValueError\u001b[39;00m(\u001b[38;5;124mf\u001b[39m\u001b[38;5;124m\"\u001b[39m\u001b[38;5;124mTarget size (\u001b[39m\u001b[38;5;132;01m{\u001b[39;00mtarget\u001b[38;5;241m.\u001b[39msize()\u001b[38;5;132;01m}\u001b[39;00m\u001b[38;5;124m) must be the same as input size (\u001b[39m\u001b[38;5;132;01m{\u001b[39;00m\u001b[38;5;28minput\u001b[39m\u001b[38;5;241m.\u001b[39msize()\u001b[38;5;132;01m}\u001b[39;00m\u001b[38;5;124m)\u001b[39m\u001b[38;5;124m\"\u001b[39m)\n\u001b[0;32m-> 3195\u001b[0m \u001b[38;5;28;01mreturn\u001b[39;00m \u001b[43mtorch\u001b[49m\u001b[38;5;241;43m.\u001b[39;49m\u001b[43mbinary_cross_entropy_with_logits\u001b[49m\u001b[43m(\u001b[49m\u001b[38;5;28;43minput\u001b[39;49m\u001b[43m,\u001b[49m\u001b[43m \u001b[49m\u001b[43mtarget\u001b[49m\u001b[43m,\u001b[49m\u001b[43m \u001b[49m\u001b[43mweight\u001b[49m\u001b[43m,\u001b[49m\u001b[43m \u001b[49m\u001b[43mpos_weight\u001b[49m\u001b[43m,\u001b[49m\u001b[43m \u001b[49m\u001b[43mreduction_enum\u001b[49m\u001b[43m)\u001b[49m\n",
            "\u001b[0;31mRuntimeError\u001b[0m: CUDA error: device-side assert triggered\nCUDA kernel errors might be asynchronously reported at some other API call, so the stacktrace below might be incorrect.\nFor debugging consider passing CUDA_LAUNCH_BLOCKING=1.\nCompile with `TORCH_USE_CUDA_DSA` to enable device-side assertions.\n"
          ]
        }
      ],
      "source": [
        "from imageai.Detection.Custom import DetectionModelTrainer\n",
        "\n",
        "trainer = DetectionModelTrainer()\n",
        "trainer.setModelTypeAsTinyYOLOv3()\n",
        "trainer.setDataDirectory(data_directory=\"/home/dev/Documents/GitHub/S.A.D.A.K/datasets-yolo\")\n",
        "trainer.setTrainConfig(object_names_array=[\"potholes\", \"traffic_signs\", \"vehicles\", \"pedestrian\", \"unknown\"], batch_size=32, num_experiments=100, train_from_pretrained_model=\"/home/dev/Downloads/tiny-yolov3.pt\")\n",
        "trainer.trainModel()"
      ]
    }
  ],
  "metadata": {
    "accelerator": "GPU",
    "colab": {
      "gpuType": "T4",
      "provenance": []
    },
    "kernelspec": {
      "display_name": "Python 3",
      "name": "python3"
    },
    "language_info": {
      "codemirror_mode": {
        "name": "ipython",
        "version": 3
      },
      "file_extension": ".py",
      "mimetype": "text/x-python",
      "name": "python",
      "nbconvert_exporter": "python",
      "pygments_lexer": "ipython3",
      "version": "3.10.12"
    }
  },
  "nbformat": 4,
  "nbformat_minor": 0
}
